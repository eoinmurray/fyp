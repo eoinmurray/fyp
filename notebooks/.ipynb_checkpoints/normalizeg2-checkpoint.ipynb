{
 "metadata": {
  "name": ""
 },
 "nbformat": 3,
 "nbformat_minor": 0,
 "worksheets": [
  {
   "cells": [
    {
     "cell_type": "code",
     "collapsed": false,
     "input": [
      "%pylab inline\n",
      "from scipy.integrate import trapz"
     ],
     "language": "python",
     "metadata": {},
     "outputs": [
      {
       "output_type": "stream",
       "stream": "stdout",
       "text": [
        "Populating the interactive namespace from numpy and matplotlib\n"
       ]
      }
     ],
     "prompt_number": 2
    },
    {
     "cell_type": "code",
     "collapsed": false,
     "input": [
      "def getData(name):\n",
      "    data = np.loadtxt('./'+name+'.txt')\n",
      "    x = data[:,0]\n",
      "    y1 = data[:,1]\n",
      "    y2 = data[:,2]\n",
      "    return x, y1, y2\n",
      "\n",
      "name = 'diag_norm'\n",
      "\n",
      "def deg_of_corr(name):\n",
      "    x, y1, y2 = getData(name)\n",
      "    \n",
      "    h = 12.5/2\n",
      "    l=int((x+neg).max()/(2*h))-1\n",
      "    \n",
      "    bin_width = 2*(x[1] - x[0])\n",
      "    \n",
      "    idx = (x > -h) & (x < h)\n",
      "    idxl = idx[idx==True].size\n",
      "    \n",
      "    xp = x[idx]\n",
      "    yp1 = y1[idx]\n",
      "    yp2 = y2[idx]\n",
      "    \n",
      "    print xp.max()\n",
      "    for i in xrange(30):\n",
      "        print i, x[i+1]-x[i]\n",
      "    \n",
      "#         g21=np.trapz(yp1[start+start*width:start+2*start*width], xp[start+start*width:start+2*start*width])\n",
      "#         g22=np.trapz(yp2[start+start*width:start+2*start*width], xp[start+start*width:start+2*start*width])    \n",
      "#         return (g21 - g22)/(g21 + g22)\n",
      "    \n",
      "#     return np.array(xrange(115)*bin_width-h), np.array([tag(i, 1, 2, x, y1, y2) for i in xrange(115)])\n",
      "\n",
      "deg_of_corr('circ_norm')\n",
      "\n",
      "# start_time_diag, deg_diag = deg_of_corr('diag_norm')\n",
      "# start_time_rect, deg_rect = deg_of_corr('rect_norm')\n",
      "# start_time_circ, deg_circ = deg_of_corr('circ_norm')"
     ],
     "language": "python",
     "metadata": {},
     "outputs": [
      {
       "output_type": "stream",
       "stream": "stdout",
       "text": [
        "6.15\n",
        "0 0.1\n",
        "1 0.1\n",
        "2 0.1\n",
        "3 0.1\n",
        "4 0.1\n",
        "5 0.1\n",
        "6 0.1\n",
        "7 0.1\n",
        "8 0.1\n",
        "9 0.1\n",
        "10 0.1\n",
        "11 0.1\n",
        "12 0.1\n",
        "13 0.1\n",
        "14 0.1\n",
        "15 0.1\n",
        "16 0.1\n",
        "17 0.1\n",
        "18 0.1\n",
        "19 0.1\n",
        "20 0.1\n",
        "21 0.1\n",
        "22 0.1\n",
        "23 0.1\n",
        "24 0.1\n",
        "25 0.1\n",
        "26 0.1\n",
        "27 0.1\n",
        "28 0.1\n",
        "29 0.1\n"
       ]
      }
     ],
     "prompt_number": 189
    },
    {
     "cell_type": "code",
     "collapsed": false,
     "input": [
      "# plt.plot(start_time_diag, deg_diag)\n",
      "# plt.plot(start_time_rect, deg_rect)\n",
      "# plt.plot(start_time_circ, deg_circ)\n",
      "plt.plot(start_time_circ, (1-deg_circ+deg_diag+deg_rect)/4)\n",
      "\n",
      "plt.xlim([-2, 4])"
     ],
     "language": "python",
     "metadata": {},
     "outputs": [
      {
       "metadata": {},
       "output_type": "pyout",
       "prompt_number": 176,
       "text": [
        "(-2, 4)"
       ]
      },
      {
       "metadata": {},
       "output_type": "display_data",
       "png": "[encoded data removed]",
       "text": [
        "<matplotlib.figure.Figure at 0x109604e10>"
       ]
      }
     ],
     "prompt_number": 176
    },
    {
     "cell_type": "code",
     "collapsed": false,
     "input": [],
     "language": "python",
     "metadata": {},
     "outputs": []
    }
   ],
   "metadata": {}
  }
 ]
}